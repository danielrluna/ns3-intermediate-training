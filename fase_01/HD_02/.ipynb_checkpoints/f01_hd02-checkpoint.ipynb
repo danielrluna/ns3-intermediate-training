{
 "cells": [
  {
   "cell_type": "markdown",
   "metadata": {},
   "source": [
    "# Hands-on 02: Desafios relacionados ao exemplo second.cc"
   ]
  },
  {
   "cell_type": "markdown",
   "metadata": {},
   "source": [
    "## Objetivos \n",
    "\n",
    "A proposta desse Hands-on é expor como funciona o exemplo second.cc. As metas desse tutorial são: \n",
    "\n",
    "* Enviar pacotes de tamanhos diferentes sem criar novos objetos;\n",
    "* Aumentar o número de nós via linha de comando;\n",
    "* Utilizar o tcpdump para inspeção de arquivos pcap.\n",
    "\n",
    "## Cenário\n",
    "\n",
    "O exemplo second.cc expande os conceitos do first.cc. A topologia implementada no exemplo faz a conexão entre duas redes distintas. A rede 1 é composta por dois nós P2P, onde um deles faz parte da rede 2 que é em barramento com nós CSMA/CD. \n",
    "\n",
    "![Topologia_Exemplo](./FIGS/topologiasecond.png)\n",
    "\n",
    "## Requisitos\n",
    "\n",
    "* Ter instalado o ns-3.\n",
    "\n",
    "## Versões desse tutorial\n",
    "\n",
    "* ns-3.29.\n"
   ]
  },
  {
   "cell_type": "markdown",
   "metadata": {},
   "source": [
    "# Como funciona o second.cc ?\n",
    "\n"
   ]
  }
 ],
 "metadata": {
  "kernelspec": {
   "display_name": "Python 3",
   "language": "python",
   "name": "python3"
  },
  "language_info": {
   "codemirror_mode": {
    "name": "ipython",
    "version": 3
   },
   "file_extension": ".py",
   "mimetype": "text/x-python",
   "name": "python",
   "nbconvert_exporter": "python",
   "pygments_lexer": "ipython3",
   "version": "3.7.3"
  }
 },
 "nbformat": 4,
 "nbformat_minor": 2
}
