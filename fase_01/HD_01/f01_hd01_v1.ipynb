{
 "cells": [
  {
   "cell_type": "markdown",
   "metadata": {},
   "source": [
    "# Hands-on 1: Desafios relacionados ao exemplo first.cc\n",
    "\n",
    "## Objetivos:\n",
    "- Realizar uma comunicação P2P, enviando dois pacotes de tamanhos diferentes de um cliente para um servidor. O servidor é configurado para responder reenviando os pacotes que chegam até ele por meio da porta 9.\n",
    "\n",
    "## Cenário\n",
    "- Dois nós na rede, conectados na topologia de barramento formando um sistema cliente-servidor, os dois são parte de um sistema de \"ECHO\", em que o servidor replica as mensagens que chegam até ele.\n",
    "\n",
    "## Requisitos\n",
    "- Ter instalado o ns-3.\n",
    "\n",
    "\n",
    "## Versões desse tutorial:\n",
    "- ns-3: 3.29;\n",
    "\n",
    "# Como funciona o exemplo first.cc!"
   ]
  },
  {
   "cell_type": "markdown",
   "metadata": {},
   "source": [
    "#include \"ns3/core-module.h\"\n",
    "#include \"ns3/network-module.h\"\n",
    "#include \"ns3/internet-module.h\"\n",
    "#include \"ns3/point-to-point-module.h\"\n",
    "#include \"ns3/applications-module.h\"\n",
    "\n",
    "using namespace ns3;\n",
    "\n",
    "NS_LOG_COMPONENT_DEFINE (\"FirstScriptExample\");\n",
    "\n",
    "int\n",
    "main (int argc, char *argv[])\n",
    "{\n",
    "\n",
    "CommandLine cmd;\n",
    "cmd.Parse (argc, argv);\n",
    "  \n",
    "Time::SetResolution (Time::NS);\n",
    "LogComponentEnable (\"UdpEchoClientApplication\", LOG_LEVEL_INFO);\n",
    "LogComponentEnable (\"UdpEchoServerApplication\", LOG_LEVEL_INFO);"
   ]
  },
  {
   "cell_type": "markdown",
   "metadata": {},
   "source": [
    "// #Camada Fisica, Criando 2 nós na rede\n",
    "NodeContainer nodes;\n",
    "nodes.Create (2);"
   ]
  },
  {
   "cell_type": "markdown",
   "metadata": {},
   "source": [
    "// #Camada de enlace, criando o canal e ligando os nós\n",
    "PointToPointHelper pointToPoint;\n",
    "pointToPoint.SetDeviceAttribute (\"DataRate\", StringValue (\"5Mbps\"));\n",
    "pointToPoint.SetChannelAttribute (\"Delay\", StringValue (\"2ms\"));\n",
    "\n",
    "NetDeviceContainer devices;\n",
    "devices = pointToPoint.Install (nodes);"
   ]
  },
  {
   "cell_type": "markdown",
   "metadata": {},
   "source": [
    "//# Instalando a pilha de protocolos TCP/IP nos nós e definindo suas configurações de rede\n",
    "InternetStackHelper stack;\n",
    "stack.Install (nodes);\n",
    "\n",
    "Ipv4AddressHelper address;\n",
    "address.SetBase (\"10.1.1.0\", \"255.255.255.0\");\n",
    "\n",
    "Ipv4InterfaceContainer interfaces = address.Assign (devices);"
   ]
  },
  {
   "cell_type": "markdown",
   "metadata": {},
   "source": [
    "// #Criando uma aplicaçao que vai ouvir todas as mensagens na porta 9\n",
    "UdpEchoServerHelper echoServer (9);\n",
    "\n",
    "// #Instalando a aplicação no segundo nó da rede\n",
    "ApplicationContainer serverApps = echoServer.Install (nodes.Get (1));\n",
    "serverApps.Start (Seconds (1.0)); // #ligando o nó depois que o servidor ja está ligado.\n",
    "serverApps.Stop (Seconds (10.0));"
   ]
  },
  {
   "cell_type": "markdown",
   "metadata": {},
   "source": [
    "## Resolvendo o desafio\n",
    "- Agora precisamos criar duas aplicações que serão instaladas no cliente,cada uma das aplicações enviará pacotes de tamanhos diferentes para o servidor. É importantissimo saber que o servidor ja está configurado para replicar os pacotes de chegam nele. portanto, não será necessário mecher com ele.\n"
   ]
  },
  {
   "cell_type": "markdown",
   "metadata": {},
   "source": [
    "\n",
    "  UdpEchoClientHelper echoClient (interfaces.GetAddress (1), 9); // #cliente se conectando ao servidor na porta 9\n",
    "  UdpEchoClientHelper echoClient2 (interfaces.GetAddress (1), 9);\n",
    "  //# Configurando pacotes\n",
    "  echoClient.SetAttribute (\"MaxPackets\", UintegerValue (1));\n",
    "  echoClient.SetAttribute (\"Interval\", TimeValue (Seconds (1.0)));\n",
    "  echoClient.SetAttribute (\"PacketSize\", UintegerValue (1024));\n",
    "\n",
    "  echoClient2.SetAttribute (\"MaxPackets\", UintegerValue (1));\n",
    "  echoClient2.SetAttribute (\"Interval\", TimeValue (Seconds (1.0)));\n",
    "  echoClient2.SetAttribute (\"PacketSize\", UintegerValue (2048));\n",
    "\n",
    "  // #Instalando a aplicacao cliente no primeiro nó da rede\n",
    "  ApplicationContainer clientApps = echoClient.Install (nodes.Get (0));\n",
    "  clientApps.Start (Seconds (2.0));\n",
    "  clientApps.Stop (Seconds (10.0));\n",
    "\n",
    "  ApplicationContainer clientApps2 = echoClient2.Install (nodes.Get(0));\n",
    "  clientApps2.Start(Seconds (2.0));\n",
    "  clientApps2.Stop(Seconds (10.0));\n",
    "\n",
    "  Simulator::Run ();\n",
    "  Simulator::Destroy ();\n",
    "  return 0;\n",
    "}\n"
   ]
  },
  {
   "cell_type": "markdown",
   "metadata": {},
   "source": [
    "# Resultado\n",
    "Com o comando *./waf --run desafio01*,  ns-3 vai compilar o arquivo e rodá-lo.\n",
    "![resultado](FIGS/resultado.png).\n",
    "\n",
    "O Código completo pode ser encontrado [aqui](CODE/desafio01.cc)"
   ]
  }
 ],
 "metadata": {
  "kernelspec": {
   "display_name": "Python 3",
   "language": "python",
   "name": "python3"
  },
  "language_info": {
   "codemirror_mode": {
    "name": "ipython",
    "version": 3
   },
   "file_extension": ".py",
   "mimetype": "text/x-python",
   "name": "python",
   "nbconvert_exporter": "python",
   "pygments_lexer": "ipython3",
   "version": "3.7.1"
  }
 },
 "nbformat": 4,
 "nbformat_minor": 2
}
