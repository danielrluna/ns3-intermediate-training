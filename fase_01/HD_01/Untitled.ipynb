{
 "cells": [
  {
   "cell_type": "markdown",
   "metadata": {},
   "source": [
    "# Hands-on 01: Desafios relacionados ao exemplo first.cc\n",
    "## Objetivos:\n",
    "O objetivo do hands-on é enviar dois pacotes com tamanhos diferentes para um servidor e esperar o servidor reenviar os pacotes.\n",
    "\n",
    "## Cenário:\n",
    "Dois nós da rede são conectados via um barramento,um clinte que envia dois pacotes com tamanhos de 1024 e 2048 bits respectivamente, e o servidor responde reenviando exatamente os mesmos pacotes para o cliente."
   ]
  },
  {
   "cell_type": "code",
   "execution_count": null,
   "metadata": {},
   "outputs": [],
   "source": []
  }
 ],
 "metadata": {
  "kernelspec": {
   "display_name": "Python 3",
   "language": "python",
   "name": "python3"
  },
  "language_info": {
   "codemirror_mode": {
    "name": "ipython",
    "version": 3
   },
   "file_extension": ".py",
   "mimetype": "text/x-python",
   "name": "python",
   "nbconvert_exporter": "python",
   "pygments_lexer": "ipython3",
   "version": "3.7.3"
  }
 },
 "nbformat": 4,
 "nbformat_minor": 2
}
