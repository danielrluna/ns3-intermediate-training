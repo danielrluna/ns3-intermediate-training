{
 "cells": [
  {
   "cell_type": "markdown",
   "metadata": {},
   "source": [
    "# Fase II: Campanhas de Investigação com análise de desempenho do Wi-Fi\n",
    "\n",
    "## Hands-On 04: Campanha 03\n",
    "\n",
    "### Cenário 01: Posição Aleatória + Mobilidade\n",
    "* Padrão: 802.11ac;\n",
    "* Largura de canal: 80MHz;\n",
    "* Frequência de operação: 5GHz;\n",
    "* Taxa oferecida: 1.5Mbps (Downlink) e 750Kbps (Uplink);\n",
    "* Número de STAs: 1, 2, 3, 4, 5, 6, 7, 8, 9 e 10;\n",
    "* Tempo de simulação: 500 segundos;\n",
    "* Simulation runs: 1000;\n",
    "* STAs posicionados aleatóriamente com mobilidade.\n",
    "\n",
    "Tendo como base o script [rate-adaptation-distance.cc](https://www.nsnam.org/docs/release/3.29/doxygen/rate-adaptation-distance_8cc.html), disponibilizado nos exemplos wireless do ns-3 (*~/ns-3.29/examples/wireless*), e as orientações passadas no [Hands-On 1.5: FlowMonitor, campanhas e plotagem de gráficos](https://nbviewer.jupyter.org/github/vicentesousa/ns3-intermediate-training/blob/master/fase_02/HD_01-5/f02_hd01-5.ipynb) fizemos as alterações necessárias para a construção do terceiro cenário.\n",
    "\n",
    "A principal alteração no script em relação aos anteriores foi a forma de como a posição das STAs se comportam, no nosso caso elas são posicionadas aleatóriamente e também possuem mobilidade, ou seja, as estações se movimentam no grid. Para satisfazer as necessidades do cenário, foram necessárias algumas modificações no _PositionAllocator_ e _MobilityModel_ das estações. Caso o leitor deseje observar o resultado dessas alterações, o codigo finalizado pode ser encontrado em (*~/ns3-intermediate-training/fase_02/HD_04/CODES*).\n",
    "\n",
    "### Resultados\n",
    "\n",
    "A análise de desempenho foi realizada para três tipos de algoritmos de adaptação diferentes, suportados pelo **802.11ac**: \n",
    "\n",
    "* IdealWifiManager;\n",
    "* ConstantRateWifiManager;\n",
    "* MinstrelHtWifiManager.\n",
    "\n",
    "São apresentados três plots distintos para Downlink e Uplink: __Throughput vs Nº de STAs__ , **Packet Loss Ratio vs Nº de STAs** e **User Satisfaction vs Nº de STAs**.\n",
    "\n",
    "### Downlink\n",
    "#### Throughput\n",
    "![ThroughputDL](./FIGS/mobility/Wifi_mobility_campaign_TputDL.png)\n",
    "O primeiro plot analisado foi o do __Throughput vs Nº de STAs__, podemos observar que mesmo com uma mobilidade nos nós o **MinstrelHtWifiManager** continuou obtendo os melhores resultados, onde o throughput oferecido para a rede só teve redução com a presença de 6 STAs, e no pior caso a taxa continuou muito próxima da taxa de pico. O **ConstantRateWifiManager**, com apenas três STAs presentes na rede já sofre uma perda considerável no throughput, obtendo o pior resultado no cenário mais populoso. Em relação ao **IdealWifiManager** o seu throughput já começa em um patamar menor, comparado aos outros dois algoritmos, mas em um cenário mais populoso ainda obteve melhores resultados que o algoritmo anterior. \n",
    "#### Packet Loss Ratio\n",
    "![PLRDL](./FIGS/mobility/Wifi_mobility_campaign_PLRDL.png)\n",
    "#### User Satisfaction\n",
    "![USDL](./FIGS/mobility/Wifi_mobility_campaign_USDL.png)\n",
    "\n",
    "### Uplink\n",
    "#### Throughput\n",
    "![ThroughputUL](./FIGS/mobility/Wifi_mobility_campaign_TputUL.png)\n",
    "#### Packet Loss Ratio\n",
    "![PLRUL](./FIGS/mobility/Wifi_mobility_campaign_PLRUL.png)\n",
    "#### User Satisfaction\n",
    "![USDL](./FIGS/mobility/Wifi_mobility_campaign_USUL.png)"
   ]
  }
 ],
 "metadata": {
  "kernelspec": {
   "display_name": "Python 3",
   "language": "python",
   "name": "python3"
  },
  "language_info": {
   "codemirror_mode": {
    "name": "ipython",
    "version": 3
   },
   "file_extension": ".py",
   "mimetype": "text/x-python",
   "name": "python",
   "nbconvert_exporter": "python",
   "pygments_lexer": "ipython3",
   "version": "3.7.3"
  }
 },
 "nbformat": 4,
 "nbformat_minor": 2
}
