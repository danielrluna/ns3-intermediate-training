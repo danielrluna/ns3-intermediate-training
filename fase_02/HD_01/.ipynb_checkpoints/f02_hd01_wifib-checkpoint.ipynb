{
 "cells": [
  {
   "cell_type": "markdown",
   "metadata": {},
   "source": [
    "# IEEE 802.11b"
   ]
  },
  {
   "cell_type": "markdown",
   "metadata": {},
   "source": [
    "O padrão 802.11 original definiu três tipos de camada física,duas baseadas em espalhamento espectral(spread spectrum) a Frequency Hopping Spread Spectrum(FHSS) e a Direct Sequence Spread Spectrum(DSSS) e uma utilizando infravermelho, mantendo a compatibilidade com o padrão 802.11 com um objetivo de uma maior taxa de transmissão foi criado o 802.11b. O 802.11b opera na faixa de freqüência de 2,4 GHz,e utiliza o DSSS com o código Barker para atingir taxas do 1 Mbps e 2 Mbps(modos do padrão original),sendo adicionado dois novos modos possibilitando taxas de 5,5 Mbps e 11 Mbps,utilizando uma nova técnica de codificação,chamada de Complementary Code Keying (CCK), o padrão não utiliza a tecnologia MIMO nem Channel bonding.\n",
    "\n",
    "  \n",
    "  ![figura taxa de transmissão](FIGS/taxas80211b.png)"
   ]
  },
  {
   "cell_type": "markdown",
   "metadata": {},
   "source": [
    "## Requisitos:\n",
    "* Copiar o exemplo __rate-adaptation-distance.cc__, encontrado em __ns-3.29/examples/wireless__, para a pasta __ns-3.29/scratch__;\n",
    "* Instalar o gnuplot.\n",
    "\n",
    "## Alterações:\n",
    "Para investigar os efeitos dos algoritmos de adaptação de taxa nos diversos padrões IEEE 802.11 serão realizadas algumas alterações no exemplo __rate-adaptation-distance.cc__. A seguir os principais parâmetros do script que podem ser alterados, resultando em diferentes cenários de análise. \n",
    "\n",
    "* __staManager__: Define o algoritmo de adaptação utilizado pelo nó STA;\n",
    "* __apManager__: Define o algoritmo de adaptação utilizado pelo nó AP;\n",
    "* __standard__: Define qual padrão IEEE 802.11 será utilizado na simulação;\n",
    "* __OutputFileName__: Define o nome do arquivo de saída da simulação;\n",
    "* __shortGuardInterval__: Habilita/Desabilita o uso de um Intervalo curto de guarda;\n",
    "* __chWidth__: Define a largura do canal utilizado na simulação;\n",
    "* __ap1_x/y__: Define a posição inicial do nó AP;\n",
    "* __sta1_x/y__: Define a posição inicial do nó STA;\n",
    "* __steps__: Define a quantidade de passos tomados;\n",
    "* __stepsSize__: Define a distância tomada em cada passo;\n",
    "* __stepsTime__: Define o intervalo entre passos."
   ]
  },
  {
   "cell_type": "markdown",
   "metadata": {},
   "source": [
    "Conhecendo o padrão  e os tipos parâmetros que podemos alterar, podemos dar inicio a modificação algoritmo adaptação de taxa do ns3 como requisitado,copiando da pasta examples/wireless/rate-adaptation-distance.cc para a pasta scratch, segue abaixo a imagem de parte do código que é de nosso interesse."
   ]
  },
  {
   "cell_type": "markdown",
   "metadata": {},
   "source": [
    "![figura taxa de transmissão](FIGS/codigo.png)\n"
   ]
  },
  {
   "cell_type": "markdown",
   "metadata": {},
   "source": [
    "O default do script \"rate-adaptation-distance.cc\" está configurado para utilizar o padrão 802.11n-5Ghz,juntamente com o algoritmo de adaptação de taxa minstrel, e para nosso caso de estudo o padrão escolhido 802.11b,o algoritmo minstrel,vcom mudanças nos parametros steps,stepsSize e stepsTime,segue abaixo as modificações: "
   ]
  },
  {
   "cell_type": "markdown",
   "metadata": {},
   "source": [
    "\n",
    "* __staManager__: MinstrelHtWifiManager;\n",
    "* __apManager__: MinstrelHtWifiManager;\n",
    "* __standard__: Dde 802.11n-5GHz para 802.11b;\n",
    "* __OutputFileName__: Nome do arquivo para simulação;\n",
    "* __steps__: de 100 para 125;\n",
    "* __stepsSize__: de 1 para 2;\n",
    "* __stepsTime__: de 1 para 2;\n"
   ]
  },
  {
   "cell_type": "markdown",
   "metadata": {},
   "source": [
    "\n",
    "com isso já é possível executar o arquivo no ns3 utilizando o comando ./waf --run scratch/rate-adaptation-distance.cc, o qual além de compilar também será simulado o script, gerando um arquivo do tipo throughput-outputFileName.plt,outputFileName que será usado pra gerar o o gráfico da taxa de transmissão (throughput) vs Distância,com o auxilio gnuplot digitando o comando abaixo no terminal:\n"
   ]
  },
  {
   "cell_type": "markdown",
   "metadata": {},
   "source": [
    "gnuplot throughput-outputFileName.plt \n"
   ]
  },
  {
   "cell_type": "markdown",
   "metadata": {},
   "source": [
    "É gerado um arquivo de extensão (.eps) na pasta principal do ns-3,abrindo o arquivo é mostrado o  gráfico de throughput vs distância."
   ]
  },
  {
   "cell_type": "markdown",
   "metadata": {},
   "source": [
    "![figura taxa de transmissão](FIGS/grafico802.11b2.png)"
   ]
  },
  {
   "cell_type": "markdown",
   "metadata": {},
   "source": [
    "Foram testados também para padrão do 802.11b outros algoritmos de adaptação de taxa, mas nem todos eles  obtiveram sucesso e foram compilados e simulados corretamente.\n",
    "* __ArfWifiManager__:Sim\n",
    "* __OnoeWifiManager__:Não\n",
    "* __ConstantRateWifiManager__:Não\n",
    "* __IdealWifiManager__:Sim\n",
    "* __AarfWifiManager__:Sim\n",
    "* __AmrrWifiManager__:Sim\n",
    "* __CaraWifiManager__:Sim\n",
    "* __RraaWifiManager__:Sim\n",
    "* __AarfcdWifiManager__:Não\n",
    "* __ParfWifiManager__:Não\n",
    "* __AparfWifiManager__:Não\n"
   ]
  }
 ],
 "metadata": {
  "kernelspec": {
   "display_name": "Python 3",
   "language": "python",
   "name": "python3"
  },
  "language_info": {
   "codemirror_mode": {
    "name": "ipython",
    "version": 3
   },
   "file_extension": ".py",
   "mimetype": "text/x-python",
   "name": "python",
   "nbconvert_exporter": "python",
   "pygments_lexer": "ipython3",
   "version": "3.7.3"
  }
 },
 "nbformat": 4,
 "nbformat_minor": 2
}
