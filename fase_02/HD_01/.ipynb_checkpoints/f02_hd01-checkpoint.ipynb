{
 "cells": [
  {
   "cell_type": "markdown",
   "metadata": {
    "colab_type": "text",
    "id": "8Q0-XVZi8V7P"
   },
   "source": [
    "# Hands-on 1: Campanha 0\n",
    "\n",
    "\n",
    "## Objetivos\n",
    " - Investigar o comportamento de diferentes camadas físicas do Wi-Fi com o algoritmos padrão de adaptação de taxa;\n",
    " - Definir a camada física que iremos adotar para os próximos experimentos;\n",
    " - Gerar um gráfico Throughput vs. Distância para cada padrão (uma linha para cada).\n",
    "\n",
    "### Instruções para o hands-on\n",
    " - Usar uma adaptação do rate-adaptation-distance.cc, feito para várias camadas PHY do Wi-Fi. Verificar se a taxa está sendo adaptada de maneira correta;\n",
    " - Gerar um gráfico Throughput vs. Distância (0, 50m, 100m, 150m, 200m e 250m).\n",
    " - Fazer um breve texto sobre cada camada PHY e quais funcionalidades estão implementadas no ns-3;\n",
    " - Só fazer para camadas PHY que tenham o algoritmo de Rate Adaptation implementado;\n",
    " - Explorar o máximo de configurações possíveis de cada camada PHY, por exemplo: channel bouning MIMO, tempo de guarda reduzido (TGI).\n",
    "\n",
    "\n",
    "### Divisão de Tarefas\n",
    "\n",
    "**802.11a** - **Equipe de execução:** Malco Dantas (malco@ufrn.edu.br);\n",
    "\n",
    "**802.11b** - **Equipe de execução:** Ravan Oliveira (ravan@ufrn.edu.br);\n",
    "\n",
    "**802.11g** - **Equipe de execução:** Lucas Ismael (lucasismael.gppcom@ufrn.edu.br);\n",
    "\n",
    "**802.11n** - **Equipe de execução:** Lucas Ismael (lucasismael.gppcom@ufrn.edu.br);\n",
    "\n",
    "**802.11ac** - **Equipe de execução:** Jéssika Cristina (jessie@ufrn.edu.br);\n",
    "\n",
    "**802.11ax** - **Equipe de execução:** Daniel Flor (danielflor@ufrn.edu.br).\n",
    "\n",
    "**Equipe de revisão:** Daniel Luna (danielro@ufrn.edu.br) e Prof. Vicente Sousa (vicente.sousa@ufrn.edu.br) - **Prazo:** 08/2019.\n",
    "\n",
    "#### Versões desse tutorial:\n",
    "- ns-3: 3.29;\n",
    "\n",
    "#### Ultima atualização: 08/2019\n"
   ]
  },
  {
   "cell_type": "markdown",
   "metadata": {
    "colab_type": "text",
    "id": "yb9KX_pn8V7a"
   },
   "source": [
    "## Análise Wi-Fi padrão 802.11a"
   ]
  },
  {
   "cell_type": "markdown",
   "metadata": {},
   "source": [
    "O IEEE 802.11a teve seu release publicado em 1999, consegue atingir taxas de até 32 Mbps e foi o primeiro padrão da família IEEE 802.11 a usar a faixa não licenciada de 5Ghz.\n",
    "\n",
    "### Características da Camada PHY do padrão\n",
    "<br>\n",
    "* Não suporta MIMO <br>\n",
    "* Intervalo de guarda 8 $\\mu$s <br>\n",
    "* OFDM <br>\n",
    "* Canais de 20 Mhz\n",
    "\n",
    "## Pré-requisitos:\n",
    "* Copiar o exemplo __rate-adaptation-distance.cc__, encontrado em __ns-3.29/examples/wireless__, para a pasta __ns-3.29/scratch__;\n",
    "* Instalar o gnuplot.\n",
    "\n",
    "## Parâmetros Originais:\n",
    "Para investigar os efeitos dos algoritmos de adaptação de taxa nos diversos padrões IEEE 802.11 serão realizadas algumas alterações no exemplo __rate-adaptation-distance.cc__. A imagem a seguir exibe os principais parâmetros do script que podem ser alterados, resultando em diferentes cenários de análise. \n",
    "\n",
    "![parametros](./FIGS/ratedistance.png)\n",
    "\n",
    "* __staManager__: Define o algoritmo de adaptação utilizado pelo nó STA;\n",
    "* __apManager__: Define o algoritmo de adaptação utilizado pelo nó AP;\n",
    "* __standard__: Define qual padrão IEEE 802.11 será utilizado na simulação;\n",
    "* __OutputFileName__: Define o nome do arquivo de saída da simulação;\n",
    "* __shortGuardInterval__: Habilita/Desabilita o uso de um Intervalo curto de guarda;\n",
    "* __chWidth__: Define a largura do canal utilizado na simulação;\n",
    "* __ap1_x/y__: Define a posição inicial do nó AP;\n",
    "* __sta1_x/y__: Define a posição inicial do nó STA;\n",
    "* __steps__: Define a quantidade de passos tomados;\n",
    "* __stepsSize__: Define a distância tomada em cada passo;\n",
    "* __stepsTime__: Define o intervalo entre passos.\n",
    "<br>\n",
    "\n",
    "## Alterações:\n",
    "\n",
    "O default do arquivo de exemplo está configurado para utilizar o padrão 802.11n-5Ghz com o algoritmo de adaptação de taxa <i>minstrelht</i>, porém, como o objetivo do nosso estudo é o padrão IEEE 802.11a, deve-se alterar os parâmetros:\n",
    "<ul>\n",
    "    <li>staManager de <i>802.11n-5GHz<i> para <i>802.11a</i></li>\n",
    "</ul>\n",
    "\n",
    "![main](FIGS/802.11a:1.jpg)\n",
    "\n",
    "O algoritmo de adaptação de taxa escolhido (MinstrelHT), embora tenha sido adaptado originalmente para uso dos padrões 802.11n/ac, pode ser utilizado também para o 802.11a. O desempenho dele, porém, é o mesmo do *Minstrel* padrão. \n",
    "\n",
    "O parâmetro <span style='color:green'>outputFileName</span> pode ter qualquer nome, esse nome será usado para gerar um arquivo que será usado posteriormente com o gnuplot para gerar um gráfico de taxa de transmissão (throughput) vs Distancia. Uma vez que os parâmetros forem mudados, é preciso salvar o arquivo e executar o comando ./waf para compilar e rodar. Siga os passos abaixo para gerar o gráfico:\n",
    "\n",
    "1) Execute o comando: **./waf --run  scratch/rate-adaptation-distance.cc** e aguarde a conclusão da compilação e simulação.\n",
    "\n",
    "2) Na sua pasta principal do sistema (aquela que possui o utilitário waf), é gerado um aquivo no seguinte formato: **throughputoutputFileName.plt**.\n",
    "\n",
    "3) Via terminal, localize o arquivo e digite: **gnuplot throughputoutputFileName.plt**. Caso encontre algum problema, verifique se o gnuplot está corretamente instalado.\n",
    "\n",
    "4) Agora deve existir um arquivo com extensão na mesma pasta do utilitário *waf*, este arquivo pode ser aberto com um leitor de pdf comum. \n",
    "\n",
    "Segue abaixo o gráfico gerado de *Throughput vs distância*, utilizando o **ns3::MinstrelHtWifiManager**.\n"
   ]
  },
  {
   "cell_type": "markdown",
   "metadata": {},
   "source": [
    "![result](FIGS/802.11a:grafic.jpg)"
   ]
  },
  {
   "cell_type": "markdown",
   "metadata": {},
   "source": [
    "### Outros algoritmos de adaptação suportados\n",
    "É importante lembrar que também existem outros mecanismos de adaptação de taxa suportados pelo padrão IEEE 802.11a, como: \n",
    "* __CARA__: implementado no ns-3 em ns3::CaraWifiManager <br> \n",
    "* __Aarf__: implementado no ns-3 em ns3::AarfWifiManager "
   ]
  },
  {
   "cell_type": "markdown",
   "metadata": {
    "colab_type": "text",
    "id": "zgYMKfOH8nBm"
   },
   "source": [
    "## Análise Wi-Fi padrão 802.11b"
   ]
  },
  {
   "cell_type": "markdown",
   "metadata": {},
   "source": [
    "## Análise Wi-Fi padrão 802.11g"
   ]
  },
  {
   "cell_type": "markdown",
   "metadata": {},
   "source": [
    "## Análise Wi-Fi padrão 802.11n"
   ]
  },
  {
   "cell_type": "markdown",
   "metadata": {},
   "source": [
    "### Análise High Throughput (HT)"
   ]
  },
  {
   "cell_type": "markdown",
   "metadata": {},
   "source": [
    "Um dos requisitos para o padrão do Wifi 802.11n é o suporte ao HT (High Throughput). Nesse sentido, há um exemplo no simulador localizado no diretório *~/ns-allinone-3.29/ns-3.29/examples/wireless* chamado \"ht-wifi-network.cc\", o objetivo desse exemplo é simular o tráfego entre **um** *Access Point* (AP) e **uma** estação (STA) distantes apenas **1** m, variando três parâmetros: \n",
    "\n",
    "1) Modulação e Esquema de Codificação (*Modulation and Coding Scheme - MCS*);\n",
    "\n",
    "2) Largura de Banda (*Channel width*) e; \n",
    "\n",
    "3) Intervalo de Guarda Reduzido (*Short Guard Interval - Short GI*).\n",
    "\n",
    "Copiando o exemplo e o colocando na pasta *~/ns-allinone-3.29/ns-3.29/scratch*, em seguida, utilizando o comando no terminal *./waf --run scratch/ht-wifi-network*, tem-se o seguinte output:\n",
    "\n",
    "![main](FIGS/fig:ht1.png)\n",
    "\n",
    "Note que o *throughput* aumenta quanto maior o valor de *MCS*, de *Channel Width* e o uso do *Short GI*.\n",
    "\n",
    "#### Código\n",
    "\n",
    "Primeiramente, as principais variáveis de configuração são definidas, são elas:\n",
    "\n",
    "![main](FIGS/fig:ht2.png)\n",
    "\n",
    "1) A variável *udp* é definida como **true**: pode ser mudada para TCP, caso seja necessário;\n",
    "\n",
    "2) A variável *useRts* é definida como **false**: não é feito o uso do RTS/CST na simulação (talvez seja necessário taguear os pacotes (feature ainda não testada)); \n",
    "\n",
    "3) A variável *simulationTime* tem valor **10**: são simulados apenas 10 segundos, valor pode ser alterado, caso necessário;\n",
    "\n",
    "4) A variável *distance* tem valor **1**: distância entre os nós é de apenas 1 m, valor pode ser alterado, caso necessário;\n",
    "\n",
    "5) A variável *frequency* tem valor **5**: frequência de transmissão é de 5 GHz, outr valor é 2.4GHz;\n",
    "\n",
    "6) A variável *mcs* tem valor **-1**: caso seja necessário simular apenas um MCS específico, necessário apenas alterar para o valor desejado, caso queira simular para todos, deixar -1;\n",
    "\n",
    "7) A variável *minExpectedThroughput* tem valor **0**: utilizado para chamar uma mensagem de erro nos casos de throughput mínimo (mcs == 0 && channelWidth == 20 && sgi == 0);\n",
    "\n",
    "8) A variável *maxExpectedThroughput* tem valor **0**: utilizado para chamar uma mensagem de erro nos casos de throughput máximo (mcs == 7 && channelWidth == 40 && sgi == 1).\n",
    "\n",
    "\n",
    "Como apenas 3 parâmetros variam, é natural pensar que são utilizados 3 laços *for* ou *while* de interação. Nesse caso, os laços se encontram nas linhas 102, 106 e 108, conforme mostrado na figura:\n",
    "\n",
    "![main](FIGS/fig:ht3.png)\n",
    "\n",
    "Em seguida, os dois nós devem ser instaciados e criados, um para o AP e outro para a STA:\n",
    "\n",
    "![main](FIGS/fig:ht4.png)\n",
    "\n",
    "Os objetos do módulo wifi devem ser instanciados e seus principais atributos devem ser definidos. Nas linhas de código mostradas abaixo, é mostrado como isso deve ser feito para as camadas PHY e MAC do Wifi.\n",
    "\n",
    "Para a camada PHY, um objeto *phy* deve ser instanciado por *WifiPhyHelper*, nesse caso é utilizado o *YansWifiPhyHelper*. O objeto *phy* criado recebe dois atributos: o canal e o tipo de intervalo de guarda. A atribuição desses valores é feito pelos métodos *.SetChannel* e *.Set*. \n",
    "\n",
    "Mais informações sobre os WifiPhyHelpers podem ser encontrados na documentação: [aqui](https://www.nsnam.org/docs/release/3.29/doxygen/classns3_1_1_yans_wifi_phy_helper.html#a3ca9106a6f1193b8480408732c9dfe0b) e [aqui](https://www.nsnam.org/docs/release/3.29/doxygen/classns3_1_1_wifi_phy_helper.html).\n",
    "\n",
    "Em seguida, o padrão wifi é definido, nesse caso o 802.11n.\n",
    "Também é instanciado um objeto chamado *mac* do WifiMacHelper e um objeto chamado wifi do *Wifihelper*. O segundo é utilizado para definir o valor de MCS utilizado nessa iteração e a taxa bitrate constante por meio do método *.SetRemoteStationManager*. Por fim, o SSID é definido.\n",
    "\n",
    "![main](FIGS/fig:ht5-1.png)\n",
    "\n",
    "Na trecho de código abaixo, é mostrado como o objeto wifi por meio do método *.Install* relaciona o nó com as configurações de camadas PHY e MAC. Note que para isso é necessário criar um novo objeto do tipo *NetDeviceContainer*. Note também que as diferenças entre o STA e o AP estão presentes apenas na camada MAC. Por fim, é definido a largura de banda.\n",
    "\n",
    "![main](FIGS/fig:ht6-1.png)\n",
    "\n",
    "O trecho de código abaixo insere a posição dos nós no espaço e caso fosse necessário, um modelo de mobilidade poderia sr inserido.\n",
    "\n",
    "![main](FIGS/fig:ht7.png)\n",
    "\n",
    "As linhas de código abaixo mostram a inserção da pilha de protocolos TCP/IP e os endereços IP e máscara de rede em cada nó. Note que para isso são usados três objetos de *helpers* diferentes, são eles: InternetStackHelper, Ipv4AddressHelper e Ipv4InterfaceContainer. \n",
    "\n",
    "![main](FIGS/fig:ht8.png)\n",
    "\n",
    "Nas linhas abaixo são definidos o tipo de aplicação, nesse caso o *default* é o uso do **UDP**. Mais detalhes podem ser encontrados nos hands-on da fase 01 desse treinamento.\n",
    "\n",
    "![main](FIGS/fig:ht9.png)\n",
    "\n",
    "A tabela de roteamento e a informação em que momento a simulação deve ser finalizado é definida na linha *Simulator::Stop*. A linha *Simulator::Run* indica que a simulação pode começar.\n",
    "\n",
    "![main](FIGS/fig:ht10.png)\n",
    "\n",
    "Em seguida, o throughput é calculado com base na variável rxBytes. Finalizando, tem-se duas linhas finais do código. *Simulator::Destroy()* é utilizado para apagar e desalocar a memória das variáveis usadas, a segunda linha é um std::cout informando qual foi o resultado final da simulação.\n",
    "\n",
    "![main](FIGS/fig:ht11.png)\n",
    "\n",
    "\n",
    "É importante notar que como todo esses trechos de código estão dentro dos três laços *for*, esse procedimento repete-se para cada combinação diferente de MCS (8 valores), Channel Width (2 valores) e Short GI (2 valores)."
   ]
  },
  {
   "cell_type": "markdown",
   "metadata": {},
   "source": [
    "## Análise Wi-Fi padrão 802.11ac"
   ]
  },
  {
   "cell_type": "markdown",
   "metadata": {},
   "source": [
    "O padrão Wi-Fi 802.11ac surgiu com o objetivo principal de aumentar a taxa de transmissão, podendo chegar até mais de 6900 Mbps. Entre as melhorias técnicas incrementadas para o alcance dessa taxa estão:\n",
    "\n",
    "   1. **MIMO**: pode usar até 8 antenas (*versus* 4 do 802.11n);\n",
    "   2. **Faixa espectral**: Utiliza apenas a faixa de 5GHz;\n",
    "   3. **Largura de banda**: 80 MHz (*versus* 40 MHz do 802.11n);\n",
    "   4. **Channel bonding**: Utilizando *channel bonding* a largura de banda chega a 160 MHz;\n",
    "   5. **Número de portadoras**: 236 portadoras para cada canal de 80 MHz(ao invés de 108 portadoras em um canal de 40 MHz);\n",
    "   6. **Beamforming obrigatório**;\n",
    "   7. **256-QAM**: 16 bits por símbolo (ao invés de 8 bits por símbolo no 64-QAM do 802.11n).\n",
    "    \n",
    "O módulo Wi-Fi do ns-3 dá suporte ao padrão 802.11ac com *Channel bonding*, *MIMO* e *Short-Guard-Interval*, porém o módulo ainda não dá suporte ao *beamforming* em nenhum padrão. Além disso, apesar do padrão 802.11ac suportar até 8 antenas, o módulo dá suporte apenas para um número máximo de 4 antenas.\n",
    "\n",
    "### Requisitos\n",
    "\n",
    "   1. Copiar o exemplo rate-adaptation-distance.cc, encontrado em ns-3.29/examples/wireless, para a pasta ns-3.29/scratch;\n",
    "   2. Instalar o gnuplot"
   ]
  },
  {
   "cell_type": "markdown",
   "metadata": {},
   "source": [
    "### IEEE 802.11ac \n",
    "\n",
    "O *default* do arquivo de exemplo está configurado para utilizar o padrão 802.11n-5Ghz com o algoritmo de adaptação de taxa *MinstrelHt*, porém, como o objetivo do nosso estudo é o padrão IEEE 802.11ac, deve-se alterar os parâmetros:\n",
    "\n",
    "![title](FIGS/802.11ac:1.png)\n"
   ]
  },
  {
   "cell_type": "markdown",
   "metadata": {},
   "source": [
    "Primeiramente definimos que o algoritmo de adaptação no AP e na STA será o MinstrelHT, uma adaptação do algoritmo Minstrel para suportar altas taxas de transmissão, pois o Minstrel tradicional não funciona com o padrão 802.11ac, já que não suporta as altas taxa de transmissão do padrão. Em seguida, é mudada a variável **Standard** para \"802.11ac\". **OutputFileName** guarda parte do nome que será dado ao arquivo gerado para plotagem dos gráficos. \n",
    "\n",
    "Outra alteração é na variável **chWidth**. Já que o padrão tem como *default* uma banda de 80 MHz, iremos utilizá-la. Por último iremos alterar o código para gerar 125 pontos, distantes um do outro de 2 metros e de 2 segundos. \n",
    "\n",
    "Salve o código, e no terminal execute: \"./waf --run \"rate-adaptation-distance.cc\". Será gerado um arquivo na pasta principal do Ns-3 com o nome:\n",
    "\n",
    "    throughput\"outputFileName\".plt\n",
    "\n",
    "Para gerar o gráfico a partir do arquivo de dados .plt, execute o comando:\n",
    "\n",
    "    gnuplot throughput-outputFileName.plt\n",
    "\n",
    "Na sua pasta principal do ns-3 será gerado um arquivo de extensão \".eps\":\n",
    "\n",
    "![title](FIGS/802.11ac:2.png)\n"
   ]
  },
  {
   "cell_type": "markdown",
   "metadata": {},
   "source": [
    "### MIMO, Channel Bonding e Short Guard Interval\n",
    "\n",
    "\n",
    "A configuração do *Channel Bonding* é realizada apenas modificando a largura de banda do canal do dispositivo, em que o valor padrão de 80 MHz é modificado para 160 MHz. Observa-se que esta alteração resultou em uma maior taxa de transmissão para os mesmos valores de distância. \n",
    "\n",
    "![title](FIGS/802.11ac:33.png)\n",
    "\n",
    "![title](FIGS/802.11ac:4.png)\n",
    "\n",
    "Em respeito ao *Guard Interval*, o valor padrão, 800 ns, pode ser alterado para 400 ns, que configura um cenário de *Short Guard Interval*. Isto é feito alterando a variável **ShortGuardInterval**. Observa-se que mesmo mantendo o *channel bonding* com um intervalo de guarda menor, as taxas de transmissão maiores não foram atingidas, em contrapartida o decaimento com a distância ocorreu de forma mais intensa.\n",
    "\n",
    "![title](FIGS/802.11ac:44.png)\n",
    "\n",
    "![title](FIGS/802.11ac:3.png)\n",
    "\n",
    "\n",
    "\n",
    "Já para o MIMO, é possivel setar o número de antenas e também fazer com que cada antena transmita um tipo de dado (Spatial Multiplexing). A alteração do algoritmo para suportar MIMO incluiu a adição de mais 3 variáveis: **Antennas** (número de antenas), **Antennastx** (número de antenas transmissoras), **Antennasrx** (número de antenas recceptoras).\n",
    "\n",
    "![title](FIGS/802.11ac:6.png)\n",
    "\n",
    "Em seguida foram incluidas mais configurações da camada física para o 802.11 ac:\n",
    "\n",
    "![title](FIGS/802.11ac:66.png)\n",
    "\n",
    "Mantendo o Channel Bonding e retirando o *Short Guard Interval*, observa-se que o efeito do MIMO foi aumentar a taxa de transmissão de forma significativa. Além disso, o decaimento com a distância ocorreu de forma mais lenta.\n",
    "\n",
    "![title](FIGS/802.11ac:5.png)\n",
    "\n",
    "### Algoritmos de adaptação suportados\n",
    "\n",
    "    ConstantRateWifiManager\n",
    "    IdealWifiManager\n",
    "    MinstrelHtWifiManager\n",
    "\n",
    "\n",
    "Com isso, é finalizada a investigação sobre o padrão IEEE 802.11ac."
   ]
  },
  {
   "cell_type": "markdown",
   "metadata": {},
   "source": [
    "### Análise Very High Throughput (VHT)"
   ]
  },
  {
   "cell_type": "markdown",
   "metadata": {},
   "source": [
    "De modo semelhante ao padrão 802.11n, no 802.11ac um dos requisitos é o suporte ao VHT (Very High Throughput). Nesse sentido, há um exemplo no simulador localizado no diretório *~/ns-allinone-3.29/ns-3.29/examples/wireless* chamado \"vht-wifi-network.cc\", o objetivo desse exemplo é simular o tráfego entre **um** *Access Point* (AP) e **uma** estação (STA) distantes apenas **1** m, variando os mesmos três parâmetros da análise HT do 802.11n: \n",
    "\n",
    "1) Modulação e Esquema de Codificação (*Modulation and Coding Scheme - MCS*);\n",
    "\n",
    "2) Largura de Banda (*Channel width*) e; \n",
    "\n",
    "3) Intervalo de Guarda Reduzido (*Short Guard Interval - Short GI*).\n",
    "\n",
    "Copiando o exemplo e o colocando na pasta *~/ns-allinone-3.29/ns-3.29/scratch*, em seguida, utilizando o comando no terminal *./waf --run scratch/vht-wifi-network*, tem-se o seguinte output:\n",
    "\n",
    "![main](FIGS/fig:vht1.png)\n",
    "\n",
    "Importante destacar que para o padrão em questão, há **10 valores diferentes de MCS, 4 valores diferentes de Channel Width (20 MHz, 40 MHz, 80 MHz e 160 MHz) e a opção de usar o intervalo de guarda reduzido ou não. De modo que são feitas 78 simulações (para o MCS=9, há apenas 3 opções de *Channel Width*)**. Como cada simulação é representada por uma linha, não seria prático mostrar todas linhas.\n",
    "\n",
    "Note que o *throughput* aumenta quanto maior o valor de *MCS*, de *Channel Width* e o uso do *Short GI*.\n",
    "\n",
    "#### Código\n",
    "\n",
    "O script *vht-wifi-network.cc* é muito semelhante ao *ht-wifi-network.cc* (explicitado na análise do HT), com algumas diferenças localizadas. Essa Seção mostrará os principais pontos de diferença entre os dois scripts. \n",
    "\n",
    "A primeira diferença está nas variáveis utilizadas, são:\n",
    "\n",
    "![main](FIGS/fig:vht2.png)\n",
    "\n",
    "Note que apenas a variável *frequency* está ausente quando comparada com o padrão anterior, pois o 802.11ac trabalha apenas em 5 GHz. O restante das variáveis possuem os mesmos significados e funções do exemplo *ht-wifi-netwok.cc*.\n",
    "\n",
    "Na figura abaixo, mais algumas diferenças são mostradas: 1) a escolha do padrão (linha 136), nesse caso não é necessário escolher o padrão com base na frequência; 2) algumas outras pequenas alterações também ocorrem, como nas variáveis *oss* (linha 139) *ssid* (linha 144). \n",
    "\n",
    "![main](FIGS/fig:vht3.png)\n",
    "\n",
    "O restante de código é o mesmo apresentado na análise do HT."
   ]
  },
  {
   "cell_type": "markdown",
   "metadata": {},
   "source": [
    "## Análise Wi-Fi padrão 802.11ax"
   ]
  },
  {
   "cell_type": "markdown",
   "metadata": {},
   "source": [
    "### Análise High Efficiency (HE)"
   ]
  },
  {
   "cell_type": "markdown",
   "metadata": {},
   "source": [
    "De modo semelhante ao padrão 802.11n e 802.11ac, no padrão 802.11ac um dos requisitos é o suporte ao HE (High Efficiency). Nesse sentido, há um exemplo no simulador localizado no diretório *~/ns-allinone-3.29/ns-3.29/examples/wireless* chamado \"he-wifi-network.cc\", o objetivo desse exemplo é simular o tráfego entre **um** *Access Point* (AP) e **uma** estação (STA) distantes apenas **1** m, variando os mesmos três parâmetros das análises HT do 802.11n e VHT do 802.11ac: \n",
    "\n",
    "1) Modulação e Esquema de Codificação (*Modulation and Coding Scheme - MCS*);\n",
    "\n",
    "2) Largura de Banda (*Channel width*) e; \n",
    "\n",
    "3) Guarda Reduzido (*Guard Interval - GI*).\n",
    "\n",
    "Copiando o exemplo e o colocando na pasta *~/ns-allinone-3.29/ns-3.29/scratch*, em seguida, utilizando o comando no terminal *./waf --run scratch/he-wifi-network*, tem-se o seguinte output:\n",
    "\n",
    "![main](FIGS/fig:he1.png)\n",
    "\n",
    "Importante destacar que para o padrão em questão, há **12 valores diferentes de MCS, 4 valores diferentes de Channel Width (20 MHz, 40 MHz, 80 MHz e 160 MHz) e até 3 valores de intervalo de guarda (800 ns, 1600 ns e 3200 ns), totalizando 144 simulações**. Como cada simulação é representada por uma linha, não seria prático mostrar todas linhas.\n",
    "\n",
    "Note que o *throughput* aumenta quanto maior o valor de *MCS*, de *Channel Width* e o uso do *Short GI*.\n",
    "\n",
    "#### Código\n",
    "\n",
    "O script *het-wifi-network.cc* é muito semelhante (com pequenas mudanças localizadas) aos *ht-wifi-network.cc* e *vht-wifi-network.cc*, explicitados respectivamente nas Seções *Análise High Throughput (HT)* e *Análise Very High Throughput (VHT)*. Essa Seção mostrará os principais pontos de diferença entre os scripts.\n",
    "\n",
    "A primeira diferença está nas variáveis utilizadas, são:\n",
    "\n",
    "![main](FIGS/fig:he2.png)\n",
    "\n",
    "Note que apenas a variável *frequency* está presente novamente quando comparada com o padrão anterior (802.11ac), pois 802.11ax trabalha apenas em 2.4 GHz e 5 GHz. O restante das variáveis possuem os mesmos significados e funções do exemplo *vht-wifi-netwok.cc* e *vht-wifi-netwok.cc*.\n",
    "\n",
    "Na figura abaixo, mais algumas diferenças são mostradas: 1) a escolha do padrão (linha 136), nesse caso é necessário escolher o padrão com base na frequência (linhas 137 ou 141); 2) algumas outras pequenas alterações também ocorrem, como nas variáveis *oss* (linha 151) *ssid* (linha 155). \n",
    "\n",
    "![main](FIGS/fig:he3.png)\n",
    "\n",
    "O restante de código é o mesmo apresentado na análise do HT e VHT.\n"
   ]
  },
  {
   "cell_type": "markdown",
   "metadata": {},
   "source": [
    "## Gráfico Throughput vs. Distância Wifi"
   ]
  }
 ],
 "metadata": {
  "colab": {
   "name": "f01_hd04.ipynb",
   "provenance": [],
   "toc_visible": true,
   "version": "0.3.2"
  },
  "kernelspec": {
   "display_name": "Python 3",
   "language": "python",
   "name": "python3"
  },
  "language_info": {
   "codemirror_mode": {
    "name": "ipython",
    "version": 3
   },
   "file_extension": ".py",
   "mimetype": "text/x-python",
   "name": "python",
   "nbconvert_exporter": "python",
   "pygments_lexer": "ipython3",
   "version": "3.7.1"
  }
 },
 "nbformat": 4,
 "nbformat_minor": 1
}
