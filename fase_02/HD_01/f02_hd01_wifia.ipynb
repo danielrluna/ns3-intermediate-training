{
 "cells": [
  {
   "cell_type": "markdown",
   "metadata": {},
   "source": [
    "# IEEE 802.11a\n",
    "O IEEE 802.11a teve seu release publicado em 1999, consegue atingir taxas de até 32 Mbps e foi o primeiro padrão da família IEEE 802.11 a usar a faixa não licenciada de 5Ghz.\n",
    "### Características da Camada PHY do padrão\n",
    "<br>\n",
    "* Não suporta MIMO <br>\n",
    "* Intervalo de guarda 8 $\\mu$s <br>\n",
    "* OFDM <br>\n",
    "* Canais de 20 Mhz\n",
    "\n",
    "## Pré-requisitos:\n",
    "* Copiar o exemplo __rate-adaptation-distance.cc__, encontrado em __ns-3.29/examples/wireless__, para a pasta __ns-3.29/scratch__;\n",
    "* Instalar o gnuplot.\n",
    "\n",
    "## Parâmetros Originais:\n",
    "Para investigar os efeitos dos algoritmos de adaptação de taxa nos diversos padrões IEEE 802.11 serão realizadas algumas alterações no exemplo __rate-adaptation-distance.cc__. A imagem a seguir exibe os principais parâmetros do script que podem ser alterados, resultando em diferentes cenários de análise. \n",
    "\n",
    "![parametros](./FIGS/ratedistance.png)\n",
    "\n",
    "* __staManager__: Define o algoritmo de adaptação utilizado pelo nó STA;\n",
    "* __apManager__: Define o algoritmo de adaptação utilizado pelo nó AP;\n",
    "* __standard__: Define qual padrão IEEE 802.11 será utilizado na simulação;\n",
    "* __OutputFileName__: Define o nome do arquivo de saída da simulação;\n",
    "* __shortGuardInterval__: Habilita/Desabilita o uso de um Intervalo curto de guarda;\n",
    "* __chWidth__: Define a largura do canal utilizado na simulação;\n",
    "* __ap1_x/y__: Define a posição inicial do nó AP;\n",
    "* __sta1_x/y__: Define a posição inicial do nó STA;\n",
    "* __steps__: Define a quantidade de passos tomados;\n",
    "* __stepsSize__: Define a distância tomada em cada passo;\n",
    "* __stepsTime__: Define o intervalo entre passos.\n",
    "<br>\n",
    "\n",
    "# Alterações:\n",
    "O default do arquivo de exemplo está configurado para utilizar o padrão 802.11n-5Ghz com o algoritmo de adaptação de taxa <i>minstrel</i>,porém , como o objetivo do nosso estudo é o IEEE 802.11a iremos alterar os parâmetros:\n",
    "<ul>\n",
    "    <li>staManager de <i>802.11n-5GHz<i> para <i>802.11a</i></li>\n",
    "</ul>\n",
    "\n",
    "![main](FIGS/802.11a:1.jpg)\n",
    "\n",
    "O parâmetro <span style='color:green'>outputFileName</span> pode ter qualquer nome, esse nome será usado para gerar um arquivo que será usado posteriormente com o gnuplot para gerar um grafico de taxa de transmissão(throughput) vs Distancia.\n",
    "Uma vez que os parâmetros forem mudados, é preciso salvar o arquivo e executar o utilitário waf para fazer sua compilação.\n",
    "EXECUTE O COMANDO: <i style='color:red'>./waf --run  scratch/rate-adaptation-distance.cc</i>, e aguarde a conclusão da compilação.\n",
    "Na sua pasta principal do sistema (aquela que possui o utilitario waf), foi gerado um arquivo no seguinte formato:<br><br>\n",
    "throughput-<span style='color:green;text-align:center'>outputFileName</span>.plt\n",
    "<br><br>\n",
    "Via terminal, vá ate onde se encontra esse arquivo e digite:<br><br> gnuplot throughput-<span style='color:green'>outputFileName</span>.plt\n",
    "<br><br>\n",
    "Caso seja retornado algum erro ao executar este comando, isso significa que você nao possui o gnuplot instalado. caso este seja seu caso digite o seguinte comando para instalar o gnuplot: <i>sudo apt install gnuplot -y</i>, e rode o comando <i>gnuplot throughput-<span style='color:green'>outputFileName</span>.plt</i> novamente.\n",
    "<br><br>\n",
    "Agora deve existir um arquivo com extensão (.eps) na mesma pasta do utilitario waf,este arquivo pode ser aberto com  um leitor de pdf comum, abaixo o grafico de throughput vs distancia utilizando o <i>ns3::MinstrelHtWifiManager</i>\n",
    "\n",
    "### Outros algoritmos de adaptação suportados\n",
    "É importante lembrar que também existem outros mecanismos de adaptação de taxa suportados pelo padrão IEEE 802.11a, como: \n",
    "* __CARA__: implementado no ns-3 em ns3::CaraWifiManager <br> \n",
    "* __Aarf__: implementado no ns-3 em ns3::AarfWifiManager \n"
   ]
  },
  {
   "cell_type": "markdown",
   "metadata": {},
   "source": [
    "![result](FIGS/802.11a:grafic.jpg)"
   ]
  }
 ],
 "metadata": {
  "kernelspec": {
   "display_name": "Python 3",
   "language": "python",
   "name": "python3"
  },
  "language_info": {
   "codemirror_mode": {
    "name": "ipython",
    "version": 3
   },
   "file_extension": ".py",
   "mimetype": "text/x-python",
   "name": "python",
   "nbconvert_exporter": "python",
   "pygments_lexer": "ipython3",
   "version": "3.7.3"
  }
 },
 "nbformat": 4,
 "nbformat_minor": 2
}
